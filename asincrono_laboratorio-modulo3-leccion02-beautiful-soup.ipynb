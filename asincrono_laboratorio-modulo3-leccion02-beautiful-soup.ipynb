{
 "cells": [
  {
   "cell_type": "markdown",
   "metadata": {},
   "source": [
    "<div style=\"text-align: center;\">\n",
    "  <img src=\"https://github.com/Hack-io-Data/Imagenes/blob/main/01-LogosHackio/logo_naranja@4x.png?raw=true\" alt=\"esquema\" />\n",
    "</div>"
   ]
  },
  {
   "cell_type": "markdown",
   "metadata": {},
   "source": [
    "## Contexto\n",
    "\n",
    "**Descripción:**\n",
    "\n",
    "SetMagic Productions es una empresa especializada en la provisión de servicios integrales para la realización de rodajes cinematográficos y audiovisuales. Nos dedicamos a facilitar tanto el atrezzo necesario para las producciones como los lugares idóneos para llevar a cabo los rodajes, ya sea en entornos al aire libre o en interiores.\n",
    "\n",
    "**Servicios Ofrecidos:**\n",
    "\n",
    "- **Atrezzo Creativo:** Contamos con un extenso catálogo de atrezzo que abarca desde accesorios hasta muebles y objetos temáticos para ambientar cualquier tipo de  escena.\n",
    "\n",
    "- **Locaciones Únicas:** Nuestra empresa ofrece una amplia selección de locaciones, que incluyen desde escenarios naturales como playas, bosques y montañas, hasta espacios interiores como estudios, casas históricas y edificios emblemáticos.\n",
    "- **Servicios de Producción:** Además de proporcionar atrezzo y locaciones, también ofrecemos servicios de producción audiovisual, incluyendo equipos de filmación, personal técnico y servicios de postproducción.\n",
    "\n",
    "**Herramientas y Tecnologías:**\n",
    "\n",
    "Para recopilar información sobre nuevas locaciones y tendencias en atrezzo, utilizamos herramientas de web scraping como Beautiful Soup y Selenium para extraer datos de sitios web relevantes y redes sociales especializadas en cine y producción audiovisual. También integramos APIs de plataformas de alquiler de locaciones y bases de datos de atrezzo para acceder a información actualizada y detallada.\n",
    "\n",
    "**Almacenamiento de Datos:** (A trabajar la próxima semana)\n",
    "\n",
    "La información recopilada mediante web scraping y APIs se almacenará tanto en una base de datos relacional SQL como en una base de datos no relacional MongoDB . Estas base de datos nos permite organizar eficientemente la información sobre locaciones, atrezzo, clientes y proyectos en curso, facilitando su acceso y gestión.\n",
    "\n",
    "**Objetivo:**\n",
    "\n",
    "Nuestro objetivo principal es proporcionar a nuestros clientes una experiencia fluida y personalizada en la búsqueda y selección de locaciones y atrezzo para sus proyectos audiovisuales. Utilizando tecnologías avanzadas y una amplia red de contactos en la industria, nos esforzamos por ofrecer soluciones creativas y de alta calidad que satisfagan las necesidades específicas de cada producción.\n",
    "\n",
    "\n",
    "## Lab: Extracción de Información con Beautiful Soup\n",
    "\n",
    "En este laboratorio seguirás enriqueciendo la base de datos para ofrecer a tus clientes un servicio más completo y personalizado. Para lograr esto, extraerás información valiosa sobre objetos de atrezzo de una web especializada. Utilizarás técnicas de web scraping con la biblioteca **Beautiful Soup** para obtener y organizar los datos de manera eficiente.\n",
    "\n",
    "Trabajarás con la siguiente URL: [Atrezzo Vázquez](https://atrezzovazquez.es/shop.php?search_type=-1&search_terms=&limit=48&page=1). Esta página contiene una gran cantidad de objetos de atrezzo que pueden ser de interés para un proyecto de rodaje. Tu tarea será extraer información relevante de los productos listados en las primeras 100 páginas.\n",
    "\n",
    "1. **Navegación y Extracción de Múltiples Páginas**:\n",
    "\n",
    "   - La página web contiene varios elementos distribuidos en distintas páginas. Tu objetivo será iterar a través de las 100 primeras páginas y extraer la información deseada.\n",
    "\n",
    "   - Debes asegurarte de que tu código sea capaz de navegar automáticamente por estas páginas y extraer datos de manera continua.\n",
    "\n",
    "2. **Verificación del Código de Estado de la Respuesta**:\n",
    "\n",
    "   - Antes de extraer cualquier información, es fundamental verificar que la solicitud a la página web ha sido exitosa. Un código de estado 200 indica que la página se ha cargado correctamente.\n",
    "\n",
    "   - Si el código no es 200, debes imprimir un mensaje de error y detener la ejecución de la extracción para evitar problemas posteriores.\n",
    "\n",
    "3. **Extracción de Información Específica**:\n",
    "\n",
    "   De cada página, deberás extraer los siguientes detalles de los objetos de atrezzo:\n",
    "\n",
    "   - **Nombre del Objeto**: El nombre o identificador del objeto.\n",
    "\n",
    "   - **Categoría**: La categoría en la que se clasifica el objeto (ej.: mobiliario, decorado, utilería, etc.).\n",
    "\n",
    "   - **Sección**: La sección específica dentro de la categoría.\n",
    "\n",
    "   - **Descripción**: Una breve descripción del objeto que puede incluir detalles sobre su estilo, material o uso.\n",
    "\n",
    "   - **Dimensiones**: El tamaño del objeto en formato (largo x ancho x alto).\n",
    "\n",
    "   - **Enlace a la Imagen**: El link a la imagen del objeto, útil para tener una vista previa visual.\n",
    "\n",
    "4. **Organización de los Datos en un Diccionario**:\n",
    "\n",
    "   Una vez extraída la información, deberás organizarla en un diccionario con las siguientes claves:\n",
    "\n",
    "   - `\"nombre\"`: Nombres del objeto.\n",
    "\n",
    "   - `\"categoria\"`: Categoría a la que pertenece el objeto.\n",
    "\n",
    "   - `\"seccion\"`: Sección específica dentro de la categoría.\n",
    "\n",
    "   - `\"descripcion\"`: Breve descripción del objeto.\n",
    "\n",
    "   - `\"dimensiones\"`: Dimensiones del objeto en el formato adecuado.\n",
    "\n",
    "   - `\"imagen\"`: URL de la imagen del objeto.\n",
    "\n",
    "5. **Almacenamiento de la Información en un DataFrame**:\n",
    "\n",
    "   Una vez que tengas toda la información organizada en diccionarios, el siguiente paso es convertirla en un DataFrame de Pandas. Este DataFrame te permitirá manipular y analizar los datos con facilidad. Tu DataFrame debería verse similar al ejemplo proporcionado, donde cada fila representa un objeto diferente y cada columna contiene la información extraída:\n",
    "\n",
    "![Dataframe](https://github.com/Hack-io-Data/Imagenes/blob/main/02-Imagenes/BS/df_atrezzo.png?raw=true)\n",
    "\n",
    "\n",
    "6.  Consideraciones Adicionales:\n",
    "\n",
    "- Asegúrate de manejar posibles errores o excepciones durante el scraping, como tiempos de espera agotados, páginas inaccesibles o datos faltantes.\n",
    "\n",
    "- Recuerda que el scraping debe hacerse de manera respetuosa, evitando sobrecargar el servidor de la página web (puedes usar pausas entre solicitudes).\n",
    "\n",
    "- Finalmente, asegúrate de almacenar el DataFrame en un archivo CSV para que puedas reutilizar esta información en análisis futuros.\n"
   ]
  },
  {
   "cell_type": "markdown",
   "metadata": {},
   "source": []
  },
  {
   "cell_type": "markdown",
   "metadata": {},
   "source": [
    "## Comenzamos con la extraccion"
   ]
  },
  {
   "cell_type": "code",
   "execution_count": 18,
   "metadata": {},
   "outputs": [],
   "source": [
    "from bs4 import BeautifulSoup\n",
    "import requests\n",
    "from datetime import datetime\n",
    "from asyncio import sleep\n",
    "import pandas as pd\n",
    "from tqdm import tqdm\n",
    "import asyncio"
   ]
  },
  {
   "cell_type": "markdown",
   "metadata": {},
   "source": [
    "### Categorias a obtener\n",
    "   - `\"nombre\"`: Nombres del objeto.\n",
    "\n",
    "   - `\"categoria\"`: Categoría a la que pertenece el objeto.\n",
    "\n",
    "   - `\"seccion\"`: Sección específica dentro de la categoría.\n",
    "\n",
    "   - `\"descripcion\"`: Breve descripción del objeto.\n",
    "\n",
    "   - `\"dimensiones\"`: Dimensiones del objeto en el formato adecuado.\n",
    "\n",
    "   - `\"imagen\"`: URL de la imagen del objeto."
   ]
  },
  {
   "cell_type": "code",
   "execution_count": 19,
   "metadata": {},
   "outputs": [],
   "source": [
    "resultado = {'nombre': [], 'categoria': [], 'seccion': [], 'descripcion': [], 'dimensiones': [], 'url_imagen': []}\n",
    "\n",
    "async def apendear_info(items):\n",
    "    for item in items:\n",
    "\n",
    "        _nombre = item.find('a', {'class': 'title'}).getText()\n",
    "        nombre = _nombre if _nombre != '' else \"Desconocida\"\n",
    "        resultado['nombre'].append(nombre)\n",
    "\n",
    "        try:\n",
    "            _categoria = item.find('a', {'class': 'tag'}).getText()\n",
    "            categoria = _categoria if _categoria != '' else \"Desconocida\"\n",
    "            resultado['categoria'].append(categoria)\n",
    "        except:\n",
    "            resultado['categoria'].append('Desconocida')\n",
    "\n",
    "        _seccion = item.find('div', {'class': 'cat-sec-box'}).getText().replace(\"\\xa0\",'')\n",
    "        seccion = _seccion if _seccion != '' else \"Desconocida\"\n",
    "        resultado['seccion'].append(seccion)\n",
    "\n",
    "        descripcion = item.find('div', {'class' : 'article-container style-1'}).find('p').getText()\n",
    "        resultado['descripcion'].append(descripcion)\n",
    "\n",
    "        _dimension = item.find('div', {'class': 'price'}).getText().replace('\\n','')\n",
    "        dimension = _dimension if _dimension != '' else \"Desconocida\"\n",
    "        resultado['dimensiones'].append(dimension)\n",
    "\n",
    "        try:\n",
    "            _url_imagen = item.find('div', {'class': 'product-image'}).find('img')['src']\n",
    "            url_imagen = _url_imagen if _url_imagen != '' else \"Desconocida\"\n",
    "            resultado['url_imagen'].append(url_imagen)\n",
    "        except:\n",
    "            resultado['url_imagen'].append('Desconocida')\n"
   ]
  },
  {
   "cell_type": "code",
   "execution_count": 20,
   "metadata": {},
   "outputs": [
    {
     "name": "stderr",
     "output_type": "stream",
     "text": [
      "100%|██████████| 100/100 [00:38<00:00,  2.61it/s]\n"
     ]
    }
   ],
   "source": [
    "lista_tareas = []\n",
    "\n",
    "for i in tqdm(range(1,101)):\n",
    "    url = f'https://atrezzovazquez.es/shop.php?search_type=-1&search_terms=&limit=48&page={i}'\n",
    "\n",
    "    respuesta = requests.get(url)\n",
    "    if respuesta.status_code == 200:\n",
    "\n",
    "        sopa = BeautifulSoup(respuesta.content, 'html.parser')\n",
    "        items = sopa.find_all('div', {'class': 'col-md-3 col-sm-4 shop-grid-item'})\n",
    "\n",
    "        lista_tareas.append(apendear_info(items))\n",
    "\n",
    "        #otra forma\n",
    "        # await apendear_info(items)\n",
    "\n",
    "    # no obtenemos codigo 200 en la llamada\n",
    "    else:\n",
    "        print(\"Error al obtener respuesta de la api. Status code --> \", respuesta.status_code)\n"
   ]
  },
  {
   "cell_type": "code",
   "execution_count": 21,
   "metadata": {},
   "outputs": [
    {
     "data": {
      "text/plain": [
       "<_GatheringFuture pending>"
      ]
     },
     "execution_count": 21,
     "metadata": {},
     "output_type": "execute_result"
    }
   ],
   "source": [
    "asyncio.gather(*lista_tareas)"
   ]
  },
  {
   "cell_type": "code",
   "execution_count": 22,
   "metadata": {},
   "outputs": [],
   "source": [
    "df_atrezo = pd.DataFrame(resultado)\n",
    "\n",
    "df_atrezo['url_imagen'] = df_atrezo['url_imagen'].apply(lambda x: \"https://atrezzovazquez.es/\" + x)"
   ]
  },
  {
   "cell_type": "code",
   "execution_count": 26,
   "metadata": {},
   "outputs": [
    {
     "data": {
      "text/html": [
       "<div>\n",
       "<style scoped>\n",
       "    .dataframe tbody tr th:only-of-type {\n",
       "        vertical-align: middle;\n",
       "    }\n",
       "\n",
       "    .dataframe tbody tr th {\n",
       "        vertical-align: top;\n",
       "    }\n",
       "\n",
       "    .dataframe thead th {\n",
       "        text-align: right;\n",
       "    }\n",
       "</style>\n",
       "<table border=\"1\" class=\"dataframe\">\n",
       "  <thead>\n",
       "    <tr style=\"text-align: right;\">\n",
       "      <th></th>\n",
       "      <th>nombre</th>\n",
       "      <th>categoria</th>\n",
       "      <th>seccion</th>\n",
       "      <th>descripcion</th>\n",
       "      <th>dimensiones</th>\n",
       "      <th>url_imagen</th>\n",
       "      <th>fecha</th>\n",
       "    </tr>\n",
       "  </thead>\n",
       "  <tbody>\n",
       "    <tr>\n",
       "      <th>1894</th>\n",
       "      <td>GN18</td>\n",
       "      <td>Galan de noche</td>\n",
       "      <td>Dormitorio</td>\n",
       "      <td>Galán de noche nogal con cajones</td>\n",
       "      <td>54x50x126 (cm)</td>\n",
       "      <td>https://atrezzovazquez.es/admin/img_prod/GN18/...</td>\n",
       "      <td>2024-10-17</td>\n",
       "    </tr>\n",
       "    <tr>\n",
       "      <th>2910</th>\n",
       "      <td>CDM31</td>\n",
       "      <td>Centro de mesa</td>\n",
       "      <td>Desconocida</td>\n",
       "      <td>Centro de mesa plateado cuadros colores</td>\n",
       "      <td>0x0x0 (cm)</td>\n",
       "      <td>https://atrezzovazquez.es/admin/img_prod/CDM31...</td>\n",
       "      <td>2024-10-17</td>\n",
       "    </tr>\n",
       "    <tr>\n",
       "      <th>3180</th>\n",
       "      <td>ES36</td>\n",
       "      <td>Estanteria</td>\n",
       "      <td>CocinaRústico</td>\n",
       "      <td>Estante de cocina de pino</td>\n",
       "      <td>100x15x60 (cm)</td>\n",
       "      <td>https://atrezzovazquez.es/admin/img_prod/ES36/...</td>\n",
       "      <td>2024-10-17</td>\n",
       "    </tr>\n",
       "    <tr>\n",
       "      <th>968</th>\n",
       "      <td>ATR9</td>\n",
       "      <td>Atril</td>\n",
       "      <td>Religioso</td>\n",
       "      <td>Atril-facistol nogal cerrado</td>\n",
       "      <td>66x40x110 (cm)</td>\n",
       "      <td>https://atrezzovazquez.es/admin/img_prod/ATR9/...</td>\n",
       "      <td>2024-10-17</td>\n",
       "    </tr>\n",
       "    <tr>\n",
       "      <th>512</th>\n",
       "      <td>BAU5</td>\n",
       "      <td>Baul</td>\n",
       "      <td>AmericanoViaje</td>\n",
       "      <td>Baúl americano azul con cinchas madera</td>\n",
       "      <td>50x30x110 (cm)</td>\n",
       "      <td>https://atrezzovazquez.es/admin/img_prod/BAU5/...</td>\n",
       "      <td>2024-10-17</td>\n",
       "    </tr>\n",
       "  </tbody>\n",
       "</table>\n",
       "</div>"
      ],
      "text/plain": [
       "     nombre       categoria         seccion  \\\n",
       "1894   GN18  Galan de noche      Dormitorio   \n",
       "2910  CDM31  Centro de mesa     Desconocida   \n",
       "3180   ES36      Estanteria   CocinaRústico   \n",
       "968    ATR9           Atril       Religioso   \n",
       "512    BAU5            Baul  AmericanoViaje   \n",
       "\n",
       "                                  descripcion     dimensiones  \\\n",
       "1894         Galán de noche nogal con cajones  54x50x126 (cm)   \n",
       "2910  Centro de mesa plateado cuadros colores      0x0x0 (cm)   \n",
       "3180                Estante de cocina de pino  100x15x60 (cm)   \n",
       "968              Atril-facistol nogal cerrado  66x40x110 (cm)   \n",
       "512    Baúl americano azul con cinchas madera  50x30x110 (cm)   \n",
       "\n",
       "                                             url_imagen       fecha  \n",
       "1894  https://atrezzovazquez.es/admin/img_prod/GN18/...  2024-10-17  \n",
       "2910  https://atrezzovazquez.es/admin/img_prod/CDM31...  2024-10-17  \n",
       "3180  https://atrezzovazquez.es/admin/img_prod/ES36/...  2024-10-17  \n",
       "968   https://atrezzovazquez.es/admin/img_prod/ATR9/...  2024-10-17  \n",
       "512   https://atrezzovazquez.es/admin/img_prod/BAU5/...  2024-10-17  "
      ]
     },
     "execution_count": 26,
     "metadata": {},
     "output_type": "execute_result"
    }
   ],
   "source": [
    "df_atrezo['fecha'] = datetime.now().date()\n",
    "\n",
    "df_atrezo.sample(5)"
   ]
  },
  {
   "cell_type": "markdown",
   "metadata": {},
   "source": [
    "## Exportamos el resultado final"
   ]
  },
  {
   "cell_type": "code",
   "execution_count": 24,
   "metadata": {},
   "outputs": [],
   "source": [
    "#df_atrezo.to_csv(f'datos/df_atrezo_{datetime.now().date()}.csv')"
   ]
  }
 ],
 "metadata": {
  "kernelspec": {
   "display_name": "Python 3",
   "language": "python",
   "name": "python3"
  },
  "language_info": {
   "codemirror_mode": {
    "name": "ipython",
    "version": 3
   },
   "file_extension": ".py",
   "mimetype": "text/x-python",
   "name": "python",
   "nbconvert_exporter": "python",
   "pygments_lexer": "ipython3",
   "version": "3.12.4"
  }
 },
 "nbformat": 4,
 "nbformat_minor": 2
}
